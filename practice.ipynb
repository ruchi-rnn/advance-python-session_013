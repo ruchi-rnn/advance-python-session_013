{
 "cells": [
  {
   "cell_type": "code",
   "execution_count": 5,
   "metadata": {},
   "outputs": [],
   "source": [
    "class Vehicle:\n",
    "    def __init__(self, color , maxSpeed):\n",
    "        self.color = color\n",
    "        self.maxSpeed = maxSpeed\n",
    "        \n",
    "\n",
    "class Car(Vehicle):\n",
    "    def __init__(self, color,maxSpeed,numGears, isConvertable):\n",
    "\n",
    "\n",
    "        super().__init__(color,maxSpeed)\n",
    "        self.numGears = numGears\n",
    "        self.isConvertable = isConvertable\n",
    "    def printCar(self):\n",
    "        print(\"color:\", self.color)\n",
    "        print(\"Max Speed :\",self.maxSpeed)\n",
    "        print(\"Num Gears :\", self.numGears)\n",
    "        print(\"Is Convertable :\", self.isConvertable)"
   ]
  },
  {
   "cell_type": "code",
   "execution_count": 6,
   "metadata": {},
   "outputs": [],
   "source": [
    "C = Car(\"red\",15,3,False)"
   ]
  },
  {
   "cell_type": "code",
   "execution_count": 7,
   "metadata": {},
   "outputs": [
    {
     "name": "stdout",
     "output_type": "stream",
     "text": [
      "color: red\n",
      "Max Speed : 15\n",
      "Num Gears : 3\n",
      "Is Convertable : False\n"
     ]
    }
   ],
   "source": [
    "C.printCar()"
   ]
  },
  {
   "cell_type": "code",
   "execution_count": null,
   "metadata": {},
   "outputs": [],
   "source": [
    "# Inheritance and private member "
   ]
  },
  {
   "cell_type": "code",
   "execution_count": 8,
   "metadata": {},
   "outputs": [],
   "source": [
    "class Vehicle:\n",
    "    def __init__(self, color , maxSpeed):\n",
    "        self.color = color\n",
    "        self.__maxSpeed = maxSpeed\n",
    "        \n",
    "\n",
    "class Car(Vehicle):\n",
    "    def __init__(self, color,maxSpeed,numGears, isConvertable):\n",
    "\n",
    "\n",
    "        super().__init__(color,maxSpeed)\n",
    "        self.numGears = numGears\n",
    "        self.isConvertable = isConvertable\n",
    "    def printCar(self):\n",
    "        print(\"color:\", self.color)\n",
    "        print(\"Max Speed :\",self.maxSpeed)\n",
    "        print(\"Num Gears :\", self.numGears)\n",
    "        print(\"Is Convertable :\", self.isConvertable)"
   ]
  },
  {
   "cell_type": "code",
   "execution_count": 9,
   "metadata": {},
   "outputs": [],
   "source": [
    "C = Car(\"red\",15,3,False)"
   ]
  },
  {
   "cell_type": "code",
   "execution_count": 10,
   "metadata": {},
   "outputs": [
    {
     "name": "stdout",
     "output_type": "stream",
     "text": [
      "color: red\n"
     ]
    },
    {
     "ename": "AttributeError",
     "evalue": "'Car' object has no attribute 'maxSpeed'",
     "output_type": "error",
     "traceback": [
      "\u001b[1;31m---------------------------------------------------------------------------\u001b[0m",
      "\u001b[1;31mAttributeError\u001b[0m                            Traceback (most recent call last)",
      "\u001b[1;32mc:\\Users\\BISHT\\OneDrive\\Desktop\\advance-python-session_013\\practice.ipynb Cell 7\u001b[0m line \u001b[0;36m1\n\u001b[1;32m----> <a href='vscode-notebook-cell:/c%3A/Users/BISHT/OneDrive/Desktop/advance-python-session_013/practice.ipynb#W6sZmlsZQ%3D%3D?line=0'>1</a>\u001b[0m C\u001b[39m.\u001b[39mprintCar()\n",
      "\u001b[1;32mc:\\Users\\BISHT\\OneDrive\\Desktop\\advance-python-session_013\\practice.ipynb Cell 7\u001b[0m line \u001b[0;36m1\n\u001b[0;32m     <a href='vscode-notebook-cell:/c%3A/Users/BISHT/OneDrive/Desktop/advance-python-session_013/practice.ipynb#W6sZmlsZQ%3D%3D?line=13'>14</a>\u001b[0m \u001b[39mdef\u001b[39;00m \u001b[39mprintCar\u001b[39m(\u001b[39mself\u001b[39m):\n\u001b[0;32m     <a href='vscode-notebook-cell:/c%3A/Users/BISHT/OneDrive/Desktop/advance-python-session_013/practice.ipynb#W6sZmlsZQ%3D%3D?line=14'>15</a>\u001b[0m     \u001b[39mprint\u001b[39m(\u001b[39m\"\u001b[39m\u001b[39mcolor:\u001b[39m\u001b[39m\"\u001b[39m, \u001b[39mself\u001b[39m\u001b[39m.\u001b[39mcolor)\n\u001b[1;32m---> <a href='vscode-notebook-cell:/c%3A/Users/BISHT/OneDrive/Desktop/advance-python-session_013/practice.ipynb#W6sZmlsZQ%3D%3D?line=15'>16</a>\u001b[0m     \u001b[39mprint\u001b[39m(\u001b[39m\"\u001b[39m\u001b[39mMax Speed :\u001b[39m\u001b[39m\"\u001b[39m,\u001b[39mself\u001b[39m\u001b[39m.\u001b[39mmaxSpeed)\n\u001b[0;32m     <a href='vscode-notebook-cell:/c%3A/Users/BISHT/OneDrive/Desktop/advance-python-session_013/practice.ipynb#W6sZmlsZQ%3D%3D?line=16'>17</a>\u001b[0m     \u001b[39mprint\u001b[39m(\u001b[39m\"\u001b[39m\u001b[39mNum Gears :\u001b[39m\u001b[39m\"\u001b[39m, \u001b[39mself\u001b[39m\u001b[39m.\u001b[39mnumGears)\n\u001b[0;32m     <a href='vscode-notebook-cell:/c%3A/Users/BISHT/OneDrive/Desktop/advance-python-session_013/practice.ipynb#W6sZmlsZQ%3D%3D?line=17'>18</a>\u001b[0m     \u001b[39mprint\u001b[39m(\u001b[39m\"\u001b[39m\u001b[39mIs Convertable :\u001b[39m\u001b[39m\"\u001b[39m, \u001b[39mself\u001b[39m\u001b[39m.\u001b[39misConvertable)\n",
      "\u001b[1;31mAttributeError\u001b[0m: 'Car' object has no attribute 'maxSpeed'"
     ]
    }
   ],
   "source": [
    "C.printCar()"
   ]
  },
  {
   "cell_type": "code",
   "execution_count": 11,
   "metadata": {},
   "outputs": [],
   "source": [
    "class Vehicle:\n",
    "    def __init__(self, color , maxSpeed):\n",
    "        self.color = color\n",
    "        self.__maxSpeed = maxSpeed \n",
    "\n",
    "    def getMaxSpeed(self):\n",
    "        return self.__maxSpeed\n",
    "    \n",
    "    def selfMaxSpeed(self, maxSpeed):\n",
    "        self.__maxSpeed = maxSpeed\n",
    "\n",
    "class Car(Vehicle):\n",
    "    def __init__(self, color,maxSpeed,numGears, isConvertable):\n",
    "\n",
    "\n",
    "        super().__init__(color,maxSpeed)\n",
    "        self.numGears = numGears\n",
    "        self.isConvertable = isConvertable\n",
    "    def printCar(self):\n",
    "        print(\"color:\", self.color)\n",
    "        print(\"Max Speed :\",self.getMaxSpeed)\n",
    "        print(\"Num Gears :\", self.numGears)\n",
    "        print(\"Is Convertable :\", self.isConvertable)"
   ]
  },
  {
   "cell_type": "code",
   "execution_count": 12,
   "metadata": {},
   "outputs": [],
   "source": [
    "C = Car(\"red\",18,4,False)"
   ]
  },
  {
   "cell_type": "code",
   "execution_count": 13,
   "metadata": {},
   "outputs": [
    {
     "name": "stdout",
     "output_type": "stream",
     "text": [
      "color: red\n",
      "Max Speed : <bound method Vehicle.getMaxSpeed of <__main__.Car object at 0x000001ED09448110>>\n",
      "Num Gears : 4\n",
      "Is Convertable : False\n"
     ]
    }
   ],
   "source": [
    "C.printCar()"
   ]
  },
  {
   "cell_type": "code",
   "execution_count": 14,
   "metadata": {},
   "outputs": [],
   "source": [
    "class Vehicle:\n",
    "    def __init__(self, color , maxSpeed):\n",
    "        self.color = color\n",
    "        self.__maxSpeed = maxSpeed \n",
    "\n",
    "    def getMaxSpeed(self):\n",
    "        return self.__maxSpeed\n",
    "    \n",
    "    def selfMaxSpeed(self, maxSpeed):\n",
    "        self.__maxSpeed = maxSpeed\n",
    "\n",
    "    def print(self):\n",
    "\n",
    "        print(\"color :\", self.color)\n",
    "        print(\"maxSpeed :\",self.__maxSpeed)\n",
    "        \n",
    "\n",
    "class Car(Vehicle):\n",
    "    def __init__(self, color,maxSpeed,numGears, isConvertable):\n",
    "\n",
    "\n",
    "        super().__init__(color,maxSpeed)\n",
    "        self.numGears = numGears\n",
    "        self.isConvertable = isConvertable\n",
    "    def printCar(self):\n",
    "        super().print()\n",
    "        print(\"Num Gears :\", self.numGears)\n",
    "        print(\"Is Convertable :\", self.isConvertable)"
   ]
  },
  {
   "cell_type": "code",
   "execution_count": 15,
   "metadata": {},
   "outputs": [],
   "source": [
    "C = Car(\"red\",12,3,False)"
   ]
  },
  {
   "cell_type": "code",
   "execution_count": 16,
   "metadata": {},
   "outputs": [
    {
     "name": "stdout",
     "output_type": "stream",
     "text": [
      "color : red\n",
      "maxSpeed : 12\n",
      "Num Gears : 3\n",
      "Is Convertable : False\n"
     ]
    }
   ],
   "source": [
    "C.printCar()"
   ]
  },
  {
   "cell_type": "code",
   "execution_count": 17,
   "metadata": {},
   "outputs": [],
   "source": [
    "class Vehicle:\n",
    "    def __init__(self, color , maxSpeed):\n",
    "        self.color = color\n",
    "        self.__maxSpeed = maxSpeed \n",
    "\n",
    "    def getMaxSpeed(self):\n",
    "        return self.__maxSpeed\n",
    "    \n",
    "    def selfMaxSpeed(self, maxSpeed):\n",
    "        self.__maxSpeed = maxSpeed\n",
    "\n",
    "    def print(self):\n",
    "\n",
    "        print(\"color :\", self.color)\n",
    "        print(\"maxSpeed :\",self.__maxSpeed)\n",
    "        \n",
    "\n",
    "class Car(Vehicle):\n",
    "    def __init__(self, color,maxSpeed,numGears, isConvertable):\n",
    "\n",
    "\n",
    "        super().__init__(color,maxSpeed)\n",
    "        self.numGears = numGears\n",
    "        self.isConvertable = isConvertable\n",
    "    def printCar(self):\n",
    "         self.print()\n",
    "         print(\"Num Gears :\", self.numGears)\n",
    "         print(\"Is Convertable :\", self.isConvertable)"
   ]
  },
  {
   "cell_type": "code",
   "execution_count": 18,
   "metadata": {},
   "outputs": [],
   "source": [
    "C = Car(\"red\",12,3,False)"
   ]
  },
  {
   "cell_type": "code",
   "execution_count": 19,
   "metadata": {},
   "outputs": [
    {
     "name": "stdout",
     "output_type": "stream",
     "text": [
      "color : red\n",
      "maxSpeed : 12\n",
      "Num Gears : 3\n",
      "Is Convertable : False\n"
     ]
    }
   ],
   "source": [
    "C.printCar()"
   ]
  },
  {
   "cell_type": "code",
   "execution_count": null,
   "metadata": {},
   "outputs": [],
   "source": [
    "class Vehicle:\n",
    "    def __init__(self, color , maxSpeed):\n",
    "        self.color = color\n",
    "        self.__maxSpeed = maxSpeed \n",
    "\n",
    "    def getMaxSpeed(self):\n",
    "        return self.__maxSpeed\n",
    "    \n",
    "    def selfMaxSpeed(self, maxSpeed):\n",
    "        self.__maxSpeed = maxSpeed\n",
    "\n",
    "    def print(self):\n",
    "\n",
    "        print(\"color :\", self.color)\n",
    "        print(\"maxSpeed :\",self.__maxSpeed)\n",
    "        \n",
    "\n",
    "class Car(Vehicle):\n",
    "    def __init__(self, color,maxSpeed,numGears, isConvertable):\n",
    "\n",
    "\n",
    "        super().__init__(color,maxSpeed)\n",
    "        self.numGears = numGears\n",
    "        self.isConvertable = isConvertable\n",
    "    def printCar(self):\n",
    "         self.print()\n",
    "         print(\"Num Gears :\", self.numGears)\n",
    "         print(\"Is Convertable :\", self.isConvertable)"
   ]
  },
  {
   "cell_type": "code",
   "execution_count": null,
   "metadata": {},
   "outputs": [],
   "source": [
    "C = Car(\"red\",12,3,False)"
   ]
  },
  {
   "cell_type": "code",
   "execution_count": null,
   "metadata": {},
   "outputs": [],
   "source": [
    "C.printCar()"
   ]
  }
 ],
 "metadata": {
  "kernelspec": {
   "display_name": "base",
   "language": "python",
   "name": "python3"
  },
  "language_info": {
   "codemirror_mode": {
    "name": "ipython",
    "version": 3
   },
   "file_extension": ".py",
   "mimetype": "text/x-python",
   "name": "python",
   "nbconvert_exporter": "python",
   "pygments_lexer": "ipython3",
   "version": "3.11.4"
  }
 },
 "nbformat": 4,
 "nbformat_minor": 2
}
